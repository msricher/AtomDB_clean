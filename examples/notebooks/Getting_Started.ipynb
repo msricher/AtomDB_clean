{
 "cells": [
  {
   "cell_type": "markdown",
   "metadata": {
    "slideshow": {
     "slide_type": "-"
    }
   },
   "source": [
    "# Getting Started"
   ]
  },
  {
   "cell_type": "markdown",
   "metadata": {
    "slideshow": {
     "slide_type": "slide"
    }
   },
   "source": [
    "This tutorial shows how to use QC-AtomDB as a Python script or library.\n",
    "\n",
    "Learning outcomes:\n",
    "\n",
    "- Script usage\n",
    "\n",
    "- Atom-DB as a Python library\n",
    "\n",
    "    - Loading/Dumping atomic species data\n",
    "\n",
    "    - Getting properties of atomic species\n"
   ]
  },
  {
   "cell_type": "markdown",
   "metadata": {},
   "source": [
    "Requirements\n",
    "------------\n",
    "This tutorial assumes the package has been installed and the datasets compiled. Please, check the pertinent [instructions](https://github.com/QuantumElephant/atomdb#installation) provided in the README file."
   ]
  },
  {
   "cell_type": "markdown",
   "metadata": {},
   "source": [
    "## Script usage\n",
    "\n",
    "A basic functionality is provided through the command line interface.\n",
    "\n",
    "* Check the command line options with:\n",
    "    * `python -m atomdb -h`\n"
   ]
  },
  {
   "cell_type": "markdown",
   "metadata": {},
   "source": [
    "\n",
    "* To retrieve Slater's dataset data for the neutral Carbon atom do:\n",
    "    * `python -m atomdb -q slater C 0 3`"
   ]
  },
  {
   "cell_type": "code",
   "execution_count": null,
   "metadata": {},
   "outputs": [],
   "source": [
    "import sys  \n",
    "sys.path.insert(0, '../../')"
   ]
  },
  {
   "cell_type": "markdown",
   "metadata": {},
   "source": [
    "## Atom-DB as a Python library\n",
    "\n",
    "The following lines should appear at the beginning of the scripts:"
   ]
  },
  {
   "cell_type": "code",
   "execution_count": 1,
   "metadata": {
    "slideshow": {
     "slide_type": "slide"
    }
   },
   "outputs": [],
   "source": [
    "# Import the Atom-DB library\n",
    "import atomdb\n",
    "\n",
    "# Optional modules\n",
    "import numpy as np"
   ]
  },
  {
   "cell_type": "markdown",
   "metadata": {
    "slideshow": {
     "slide_type": "slide"
    }
   },
   "source": [
    "### Loading/Dumping Data\n",
    "\n",
    "Use the `atomdb.load` function to retrieve an atomic spcies' information.\n",
    "\n",
    "The required inputs are: element symbol, charge and multiplicity. \n",
    "\n",
    "Optionally a dataset name can be specified choosing one of:\n",
    "\n",
    "- `nist`: NIST spectroscopic data complemented with results from [Phys. Chem. Chem. Phys., 2016,18, 25721-25734](https://doi.org/10.1039/C6CP04533B)\n",
    "\n",
    "- `slater`: Atomic orbitals and electronic denisty properties from SCF calculations using Slater basis.\n",
    "\n",
    "- `numeric`: electronic denisty properties from numerical Hartree-fock calculations.\n",
    "\n",
    "- `gaussian`: Atomic orbitals and electronic denisty properties from SCF calculations using gaussian basis. \n",
    "\n",
    "Currently we only support neutral/charged elements in its ground state, therefore, the optional parameter nexc (electronic state number) is not specified, leaving it to take its dafault value 0."
   ]
  },
  {
   "cell_type": "code",
   "execution_count": 2,
   "metadata": {
    "slideshow": {
     "slide_type": "slide"
    }
   },
   "outputs": [],
   "source": [
    "# Define an atomic species and load its data\n",
    "element = 'Cl'\n",
    "charge = 0\n",
    "mult = 2\n",
    "dataset = 'slater'\n",
    "\n",
    "atom = atomdb.load(element, charge, mult, dataset=dataset)"
   ]
  },
  {
   "cell_type": "markdown",
   "metadata": {},
   "source": [
    "All information stored about a specie can be outputted in a JSON file format using:"
   ]
  },
  {
   "cell_type": "code",
   "execution_count": null,
   "metadata": {},
   "outputs": [],
   "source": [
    "# Dumping Data to a JSON File\n",
    "atom.to_json()"
   ]
  },
  {
   "cell_type": "markdown",
   "metadata": {
    "slideshow": {
     "slide_type": "slide"
    }
   },
   "source": [
    "### Getting Atomic Properties\n",
    "\n",
    "Bellow we showcase some of the accesible scalar and vector properties (mostly related to the electron density)\n",
    " \n",
    "Note that we use dictionaries for properties like the non-bonded atomic radius having more than one definition."
   ]
  },
  {
   "cell_type": "markdown",
   "metadata": {},
   "source": [
    "* Scalars"
   ]
  },
  {
   "cell_type": "code",
   "execution_count": 3,
   "metadata": {},
   "outputs": [
    {
     "name": "stdout",
     "output_type": "stream",
     "text": [
      "Atomic number:  17\n",
      "Number of electrons:  17\n",
      "Mass [a.u.]:  35.4515\n",
      "Atomic radius [a.u.]:  3.307020734362191\n"
     ]
    }
   ],
   "source": [
    "print(\"Atomic number: \", atom.natom)\n",
    "print(\"Number of electrons: \", atom.nelec)\n",
    "print(\"Mass [a.u.]: \", atom.mass)\n",
    "print(\"Atomic radius [a.u.]: \", atom.vdw_radii['bondi'])"
   ]
  },
  {
   "cell_type": "markdown",
   "metadata": {},
   "source": [
    "* Vectors"
   ]
  },
  {
   "cell_type": "code",
   "execution_count": 4,
   "metadata": {},
   "outputs": [
    {
     "name": "stdout",
     "output_type": "stream",
     "text": [
      "Number of spin-orbitals (alpha):  5\n",
      "Energies:  [-104.8844208  -10.6074807   -1.0729121   -8.0722274   -0.5063999]\n",
      "Occupations (alpha):  [1. 1. 1. 3. 3.]\n",
      "Occupations (beta):  [1. 1. 1. 3. 2.]\n"
     ]
    }
   ],
   "source": [
    "# Atomic orbitals\n",
    "print(\"Number of spin-orbitals (alpha): \", atom.ao.norba)\n",
    "print(\"Energies: \", atom.ao.energy_a)\n",
    "print(\"Occupations (alpha): \", atom.ao.occs_a)\n",
    "print(\"Occupations (beta): \", atom.ao.occs_b)"
   ]
  },
  {
   "cell_type": "markdown",
   "metadata": {},
   "source": [
    "* Functions (electron density properties)"
   ]
  },
  {
   "cell_type": "markdown",
   "metadata": {},
   "source": [
    "Two methods are available to compute density-related properties: `interpolate_dens` and `interpolate_ked`; they return spline functions (cubic splines) that can be evaluated on a radial grid.\n",
    "\n",
    "<!-- Optionally, one can select the type of orbitals included in the calculation and take a subset of them by specifying their spin component and index, respectively (by default, all occupied alpha and beta spin-orbitals are included, `spin=ab` and `index=None`). Also, density derivatives are accessible through the `deriv` parameter passed to the splines. -->"
   ]
  },
  {
   "cell_type": "code",
   "execution_count": 5,
   "metadata": {
    "slideshow": {
     "slide_type": "slide"
    }
   },
   "outputs": [],
   "source": [
    "# Define a uniform radial grid and evaluate the density\n",
    "rad_grid = np.linspace(0., 6., num=100)\n",
    "dens_spline = atom.interpolate_dens(log=True)\n",
    "ked_spline = atom.interpolate_ked(log=False)\n",
    "\n",
    "dens = dens_spline(rad_grid)\n",
    "ked = ked_spline(rad_grid)"
   ]
  },
  {
   "cell_type": "code",
   "execution_count": 14,
   "metadata": {
    "slideshow": {
     "slide_type": "slide"
    }
   },
   "outputs": [
    {
     "data": {
      "image/png": "[encoded data removed]",
      "text/plain": [
       "<Figure size 600x600 with 1 Axes>"
      ]
     },
     "metadata": {
      "needs_background": "light"
     },
     "output_type": "display_data"
    }
   ],
   "source": [
    "import matplotlib.pyplot as plt\n",
    "\n",
    "fig = plt.figure(figsize = (6, 6), dpi=100)\n",
    "ax = fig.subplots()\n",
    "\n",
    "\n",
    "ax.plot(rad_grid, dens, '-r', linewidth=2)\n",
    "ax.set(xlabel=\"Radial distance [Bohr]\", ylabel=\"Density [Bohr$^{-3}$]\")\n",
    "ax.set_yscale('log')\n",
    "ax.set_ylim(top=1000, bottom=0.00001)\n",
    "ax.set_xlim(left=0., right=6)\n",
    "fig.suptitle(f'Spherically averaged density')\n",
    "plt.show()"
   ]
  }
 ],
 "metadata": {
  "interpreter": {
   "hash": "4846203d052f4918654383d2fa4dc83e5f0e073317ccb4eea0fa3b82d0bd9d45"
  },
  "kernelspec": {
   "display_name": "Python 3.7.12 ('qcdevs')",
   "language": "python",
   "name": "python3"
  },
  "language_info": {
   "codemirror_mode": {
    "name": "ipython",
    "version": 3
   },
   "file_extension": ".py",
   "mimetype": "text/x-python",
   "name": "python",
   "nbconvert_exporter": "python",
   "pygments_lexer": "ipython3",
   "version": "3.7.12"
  }
 },
 "nbformat": 4,
 "nbformat_minor": 2
}
