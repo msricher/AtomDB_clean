{
 "cells": [
  {
   "cell_type": "markdown",
   "metadata": {},
   "source": [
    "# Promolecule properties\n",
    "\n",
    "AtomDB provides basic functionality to compute promolecular properties from the atomic data. The tool is called `promolecule`.\n",
    "The module offers evaluation of intensive and extensive properties with the tool function `make_promolecule`.\n",
    "\n",
    "<!-- Promolecular properties are linear combinations of the properties of isolated atomic species which are placed at the positions of the elements forming the molecule. -->"
   ]
  },
  {
   "cell_type": "markdown",
   "metadata": {
    "slideshow": {
     "slide_type": "slide"
    }
   },
   "source": [
    "## Building a promolecule\n",
    "\n",
    "Creating a promolecule is as simple as providing the list of elements and coordinates defining the molecule as is shown here for the Berillium dimer. Additionally, the source of atomic properties is required, which in this case is the `slater` database."
   ]
  },
  {
   "cell_type": "code",
   "execution_count": 1,
   "metadata": {},
   "outputs": [],
   "source": [
    "import numpy as np\n",
    "from atomdb.promolecule import make_promolecule\n",
    "\n",
    "\n",
    "# Atomic numbers of each center\n",
    "atnums = [4, 4]\n",
    "\n",
    "# Spatial coordinates of each center\n",
    "atcoords = np.asarray([\n",
    "    [0., 0., 0.],\n",
    "    [0., 0., 2.],\n",
    "], dtype=float)\n",
    "\n",
    "\n",
    "# Make promolecule instance\n",
    "promol = make_promolecule(atnums, atcoords, dataset='slater')"
   ]
  },
  {
   "cell_type": "markdown",
   "metadata": {},
   "source": [
    "## Extensive (global) properties\n",
    "\n",
    "$$\n",
    "P^{mol}_{pro} = \\sum^{N_{atoms}}_{i=1} c_i P^{atom}_i\n",
    "$$\n",
    "where $P^{atom}_i$ are the atomic properties and $c_i$ are the coefficients.\n"
   ]
  },
  {
   "cell_type": "code",
   "execution_count": 2,
   "metadata": {},
   "outputs": [
    {
     "name": "stdout",
     "output_type": "stream",
     "text": [
      "\n",
      "Properties:\n",
      "Mass   \t18.024366\n",
      "Energy \t29.146046\n"
     ]
    }
   ],
   "source": [
    "print(\"\\nProperties:\")\n",
    "# print(f\"Nelec  \\t{promol.nelec():+.6f}\")\n",
    "# print(f\"Nspin  \\t{promol.nspin():+.6f}\")\n",
    "print(f\"Mass   \\t{promol.mass():.6f}\")\n",
    "print(f\"Energy \\t{promol.energy():.6f}\")"
   ]
  },
  {
   "cell_type": "markdown",
   "metadata": {},
   "source": [
    "## Extensive (local) properties: density properties"
   ]
  },
  {
   "cell_type": "code",
   "execution_count": 6,
   "metadata": {},
   "outputs": [],
   "source": [
    "# Construct a 3D grid along the z-axis of the linear molecule\n",
    "N = 2000\n",
    "rad_grid = np.linspace(-3., 5., num=N)\n",
    "grid = np.zeros((N, 3))\n",
    "grid[:,2] = rad_grid\n",
    "\n",
    "# Compute the density and kinetic energy density at the points\n",
    "promol_dens = promol.density(grid, spin='ab', log=True)\n",
    "promol_ked = promol.ked(grid, spin='ab', log=False)\n",
    "promol_grad = promol.gradient(grid, spin='ab', log=False)\n",
    "promol_lapl = promol.laplacian(grid, spin='ab', log=False)\n",
    "promol_hess = promol.hessian(grid, spin='ab', log=False)"
   ]
  },
  {
   "cell_type": "markdown",
   "metadata": {},
   "source": [
    "### Visualizing density properties"
   ]
  },
  {
   "cell_type": "code",
   "execution_count": 17,
   "metadata": {},
   "outputs": [
    {
     "data": {
      "image/png": "[encoded data removed]",
      "text/plain": [
       "<Figure size 432x432 with 1 Axes>"
      ]
     },
     "metadata": {
      "needs_background": "light"
     },
     "output_type": "display_data"
    }
   ],
   "source": [
    "import matplotlib.pyplot as plt\n",
    "\n",
    "fig = plt.figure(figsize=(6, 6))\n",
    "ax = fig.add_subplot()\n",
    "\n",
    "ax.plot(rad_grid, promol_dens, color=\"blue\", label=\"Density\")\n",
    "ax.plot(rad_grid, promol_grad[:,2], color=\"red\", label=\"Gradient\")\n",
    "ax.set_xlabel(\"Radial distance (a.u.)\")\n",
    "ax.set_ylabel(\"Property value\")\n",
    "ax.legend()\n",
    "ax.set_title(\"Density and gradient of Be2 molecule\", fontsize=16)\n",
    "plt.show()"
   ]
  },
  {
   "cell_type": "markdown",
   "metadata": {},
   "source": [
    "## Intensive properties\n",
    "\n",
    "$$\n",
    "\\langle P \\rangle_p =  \\left(\\frac{1}{n}\\sum_{k=1}^n P_k^p \\right)^{\\tfrac{1}{p}}\n",
    "$$\n",
    "where $P_k^p$ are the atomic properties and $p$ is the power of the average."
   ]
  },
  {
   "cell_type": "code",
   "execution_count": 19,
   "metadata": {},
   "outputs": [],
   "source": [
    "# print(\"\\nProperties:\")\n",
    "# print(f\"Promolecule IP (eV) \\t{promol.ip(p=1):.6f}\", ) # not supported by Slater dataset"
   ]
  },
  {
   "cell_type": "markdown",
   "metadata": {},
   "source": [
    "## Promolecule with floating point charges and/or multiplicities\n",
    "\n",
    "When defining a promolecule, the charges and multiplicities of the atomic species can be specified as through the `charges` and `mults` arguments. These can be either integers or floats. When the values of these variables are floats, ...\n",
    "\n",
    "Note that if one of (charges|mults) is a float and the other is an integer, we also interpolate."
   ]
  },
  {
   "cell_type": "code",
   "execution_count": null,
   "metadata": {},
   "outputs": [],
   "source": [
    "# Charges of each center\n",
    "# (integer to directly use a species, float to interpolate)\n",
    "charges = [1.2, 0]\n",
    "\n",
    "# Multiplicities of each center\n",
    "# (integer to directly use a species, float to interpolate)\n",
    "# (positive for spin-up, negative for spin-down)\n",
    "mults = [-1.2, 1]\n",
    "\n",
    "# Build a promolecule\n",
    "promol = make_promolecule(\n",
    "    atnums,\n",
    "    atcoords,\n",
    "    charges=charges,\n",
    "    mults=mults,\n",
    "    units=\"bohr\",\n",
    "    dataset=\"uhf_augccpvdz\",\n",
    ")\n",
    "\n",
    "print(\"\\nProperties:\")\n",
    "# print(f\"Nelec  \\t{promol.nelec():+.6f}\")\n",
    "# print(f\"Nspin  \\t{promol.nspin():+.6f}\")\n",
    "print(f\"Mass   \\t{promol.mass():.6f}\")\n",
    "print(f\"Energy \\t{promol.energy():.6f}\")"
   ]
  }
 ],
 "metadata": {
  "interpreter": {
   "hash": "4846203d052f4918654383d2fa4dc83e5f0e073317ccb4eea0fa3b82d0bd9d45"
  },
  "kernelspec": {
   "display_name": "Python 3.7.12 ('qcdevs')",
   "language": "python",
   "name": "python3"
  },
  "language_info": {
   "codemirror_mode": {
    "name": "ipython",
    "version": 3
   },
   "file_extension": ".py",
   "mimetype": "text/x-python",
   "name": "python",
   "nbconvert_exporter": "python",
   "pygments_lexer": "ipython3",
   "version": "3.7.12"
  }
 },
 "nbformat": 4,
 "nbformat_minor": 2
}
