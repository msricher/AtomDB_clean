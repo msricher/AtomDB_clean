{
 "cells": [
  {
   "cell_type": "markdown",
   "metadata": {
    "slideshow": {
     "slide_type": "-"
    }
   },
   "source": [
    "Non Covalent Interactions from Promolecular Densities\n",
    "====================================================="
   ]
  },
  {
   "cell_type": "markdown",
   "metadata": {
    "slideshow": {
     "slide_type": "slide"
    }
   },
   "source": [
    "This tutorial shows how the `promolecule` module in QC-AtomDB can be used to calculate the reduced density gradient of a molecule. \n",
    "\n",
    "Non covalent interactions (NCI) such as hydrogen bonds, van der Waals interactions and steric clashes, play a central role in the structure and properties of (macro)molecules. The [reduced density gradient](https://pubs.acs.org/doi/10.1021/ct100641a), $s(\\mathbf{r})$, is an aproach to identify such interactions as distinguishable features in real space. $s(\\mathbf{r})$ is defined as a ratio of the gradient of the electron density to the electron density itself:\n",
    "\n",
    "$$\n",
    "s(\\mathbf{r}) = \\frac{1}{2(3\\pi^2)^{1/3}}\\frac{|\\nabla \\rho (\\mathbf{r})|}{\\rho^{4/3}(\\mathbf{r})}\n",
    "$$\n",
    "\n",
    "For big molecular systems (such as biomolecules or materials), the calculation of the reduced density gradient is computationally expensive. The `promolecule` module in QC-AtomDB is a fast alternative to get the necessary ingredients to calculate the reduced density gradient in terms of promolecular density properties. These are properties of a molecule evaluated from the linear combination of the properties of the atoms that compose it. For example, the promolecular density is defined as:\n",
    "$$\n",
    "\\rho^{mol}_{pro} = \\sum^{N_{atoms}}_{i=1} c_i \\rho^{atom}_i\n",
    "$$ \n",
    "These atomic densities are obtained from the atomic densities database in QC-AtomDB.\n",
    "\n",
    "As model systems the water molecule and its dimer will be used:\n",
    "\n",
    "<img src=\"images/h2o_dimer.png\" alt=\"drawing\" style=\"width: 300px;\"/>\n",
    "\n",
    "By plotting $s(\\mathbf{r})$ versus $\\rho(\\mathbf{r})$, and analysing the low density region, the presence of non-covalent interactions in the dimer can be identified. To further clasify the type of the interaction one needs to look at the sign of the laplacian of the density, which we do not cover here.\n",
    "\n",
    "Then, to compute the reduced density gradient one needs:\n",
    "- Molecular coordinate file (e.g. XYZ file)\n",
    "- Cubic grid of points\n",
    "- Electron density and density gradient at points\n",
    "\n",
    "As a way to also demonstrate the seamles interface between AtomDB and other packages in the QC-Devs environment, we will use modules from IOData and Grid to read the molecular coordinate files and generate the grid of points, respectively."
   ]
  },
  {
   "cell_type": "markdown",
   "metadata": {},
   "source": [
    "### Packages install for Google Colab"
   ]
  },
  {
   "cell_type": "code",
   "execution_count": null,
   "metadata": {},
   "outputs": [],
   "source": [
    "# ! pip install git+https://github.com/theochem/iodata.git\n",
    "# ! pip install git+https://github.com/theochem/grid.git\n",
    "# ! pip install git+https://github.com/theochem/AtomDB.git@tutor_notebooks"
   ]
  },
  {
   "cell_type": "code",
   "execution_count": null,
   "metadata": {},
   "outputs": [],
   "source": [
    "# # download the example files\n",
    "# import os\n",
    "# from urllib.request import urlretrieve\n",
    "\n",
    "# fpath = \"data/\"\n",
    "# if not os.path.exists(fpath):\n",
    "#     os.makedirs(fpath, exist_ok=True)\n",
    "\n",
    "# urlretrieve(\n",
    "#     \"https://raw.githubusercontent.com/theochem/AtomDB/dev/examples/notebooks/data/h2o_dimer.xyz\",\n",
    "#     os.path.join(fpath, \"h2o_dimer.xyz\")\n",
    "#     )\n",
    "\n",
    "# urlretrieve(\n",
    "#     \"https://raw.githubusercontent.com/theochem/AtomDB/dev/examples/notebooks/data/h2o_promol_rho.npy\",\n",
    "#     os.path.join(fpath, \"h2o_promol_rho.npy\")\n",
    "#     )\n",
    "\n",
    "# urlretrieve(\n",
    "#     \"https://raw.githubusercontent.com/theochem/AtomDB/dev/examples/notebooks/data/h2o_promol_reducedgradient.npy\",\n",
    "#     os.path.join(fpath, \"h2o_promol_reducedgradient.npy\")\n",
    "#     )"
   ]
  },
  {
   "cell_type": "code",
   "execution_count": null,
   "metadata": {},
   "outputs": [],
   "source": [
    "# Optional modules\n",
    "import numpy as np\n",
    "import matplotlib.pyplot as plt\n",
    "from iodata import load_one\n",
    "from grid.cubic import UniformGrid\n",
    "# AtomDB's promolecule tool\n",
    "from atomdb.promolecule import make_promolecule\n",
    "\n",
    "\n",
    "# Function to evaluate the reduced density gradient\n",
    "def reduced_density_gradient(rho, nablarho):\n",
    "    coeff = 2 * (3 * np.pi ** 2) ** (1 / 3)\n",
    "    gradnorm = np.linalg.norm(nablarho, axis=1)\n",
    "    return gradnorm / (coeff * rho ** (4 / 3))\n",
    "\n",
    "# Load the coordinates of the water dimer\n",
    "fname = 'h2o'\n",
    "mol = load_one(f'data/{fname}_dimer.xyz')\n",
    "atnums = mol.atnums\n",
    "atcoords = mol.atcoords # in Bohr\n",
    "\n",
    "# Generate a 3D grid with a spacing of 0.2 Bohr and an extension of 5.0 Bohr\n",
    "cubgrid = UniformGrid.from_molecule(atnums, atcoords, spacing=0.2, extension=5.0, rotate=False, weight=\"Trapezoid\")\n",
    "\n",
    "# Build de promolecule and evaluate its density and gradient. The 'slater' dataset is used to obtain the atomic data\n",
    "dimer_promol = make_promolecule(atnums, atcoords, dataset='slater')\n",
    "dimer_rho = dimer_promol.density(cubgrid.points, log=True)\n",
    "dimer_grad = dimer_promol.gradient(cubgrid.points, log=True)\n",
    "\n",
    "# Compute reduced gradient\n",
    "dimer_rdgrad = reduced_density_gradient(dimer_rho, dimer_grad)\n",
    "\n",
    "# Load density and reduced density data for a single H2O molecule\n",
    "h2o_rho = np.load(f'data/{fname}_promol_rho.npy')\n",
    "h2o_rdgrad = np.load(f'data/{fname}_promol_reducedgradient.npy')\n",
    "\n",
    "# Plot the reduced gradient as a function of the density\n",
    "plt.scatter(dimer_rho, dimer_rdgrad, label='H2O dimer')\n",
    "plt.scatter(h2o_rho, h2o_rdgrad, label='H2O')\n",
    "plt.xlim(0., 0.3)\n",
    "plt.ylim(0., 1.0)\n",
    "plt.xlabel(r'$\\rho(R)$')\n",
    "plt.ylabel(r'Reduced gradient')\n",
    "plt.legend()\n",
    "plt.show()"
   ]
  }
 ],
 "metadata": {
  "kernelspec": {
   "display_name": "Python 3 (ipykernel)",
   "language": "python",
   "name": "python3"
  },
  "language_info": {
   "codemirror_mode": {
    "name": "ipython",
    "version": 3
   },
   "file_extension": ".py",
   "mimetype": "text/x-python",
   "name": "python",
   "nbconvert_exporter": "python",
   "pygments_lexer": "ipython3",
   "version": "3.7.12"
  },
  "vscode": {
   "interpreter": {
    "hash": "4846203d052f4918654383d2fa4dc83e5f0e073317ccb4eea0fa3b82d0bd9d45"
   }
  }
 },
 "nbformat": 4,
 "nbformat_minor": 2
}
