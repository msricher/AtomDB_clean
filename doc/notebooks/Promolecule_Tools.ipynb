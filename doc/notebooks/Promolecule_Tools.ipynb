{
 "cells": [
  {
   "cell_type": "markdown",
   "metadata": {},
   "source": [
    "Promolecule tools\n",
    "=================="
   ]
  },
  {
   "cell_type": "markdown",
   "metadata": {},
   "source": [
    "### Promolecular properties\n",
    "\n",
    "Extensive \n",
    "$$\n",
    "\\rho^{mol}_{pro} = \\sum^{N_{atoms}}_{i=1} c_i \\rho^{atom}_i\n",
    "$$\n",
    "and intensive properties\n",
    "$$\n",
    "\\langle x \\rangle_p =  \\left(\\frac{1}{n}\\sum_{k=1}^n x_k^p \\right)^{\\tfrac{1}{p}}\n",
    "$$"
   ]
  },
  {
   "cell_type": "markdown",
   "metadata": {},
   "source": [
    "### Compute promolecular properties (simple example)"
   ]
  },
  {
   "cell_type": "code",
   "execution_count": 2,
   "metadata": {
    "slideshow": {
     "slide_type": "slide"
    }
   },
   "outputs": [],
   "source": [
    "# Import modules\n",
    "from atomdb.promolecule import make_promolecule\n",
    "\n",
    "# Optional modules\n",
    "import numpy as np\n",
    "from matplotlib import pyplot"
   ]
  },
  {
   "cell_type": "code",
   "execution_count": 3,
   "metadata": {},
   "outputs": [],
   "source": [
    "# Define molecule\n",
    "atoms = ['Cl', 'Cl']\n",
    "coords = np.array([[-1.5, 0., 0.], [1.5, 0., 0.]]) #in Bohr\n",
    "charges = [0, 0]\n",
    "mults = [2, 2]"
   ]
  },
  {
   "cell_type": "code",
   "execution_count": 4,
   "metadata": {},
   "outputs": [],
   "source": [
    "# Make promolecule instance\n",
    "promol = make_promolecule(atoms, coords, charges=charges, mults=mults, units=\"bohr\", dataset='slater')"
   ]
  },
  {
   "cell_type": "markdown",
   "metadata": {},
   "source": [
    "### Extensive"
   ]
  },
  {
   "cell_type": "code",
   "execution_count": 5,
   "metadata": {},
   "outputs": [
    {
     "name": "stdout",
     "output_type": "stream",
     "text": [
      "Electronic Energy (a.u.) 918.964144616\n"
     ]
    }
   ],
   "source": [
    "# Extensive (global)\n",
    "print('Electronic Energy (a.u.)', promol.energy())"
   ]
  },
  {
   "cell_type": "code",
   "execution_count": null,
   "metadata": {},
   "outputs": [],
   "source": [
    "# Make grid\n",
    "N = 2000\n",
    "rad_grid = np.linspace(-3., 3., num=N)\n",
    "grid = np.zeros((N, 3))\n",
    "grid[:,0] = rad_grid\n",
    "\n",
    "#  Extensive (local)\n",
    "promol_spline = promol.interpolate_dens(spin='ab', log=True)\n",
    "rho_promol = promol_spline(rad_grid)"
   ]
  },
  {
   "cell_type": "code",
   "execution_count": null,
   "metadata": {},
   "outputs": [],
   "source": [
    "dataset = 'slater'\n",
    "fig, ax = pyplot.subplots()\n",
    "ax.plot(rad_grid, rho_promol, color=\"blue\")\n",
    "ax.set_xlabel(\"Radial distance (a.u.)\")\n",
    "ax.set_ylabel(\"Density\")\n",
    "ax.set_title(f'{atoms[0]}--{atoms[1]}, dataset {dataset}')"
   ]
  },
  {
   "cell_type": "markdown",
   "metadata": {},
   "source": [
    "### Intensive"
   ]
  },
  {
   "cell_type": "code",
   "execution_count": null,
   "metadata": {},
   "outputs": [],
   "source": [
    "print('Promolecule IP (eV)', promol.ip(p=1))"
   ]
  }
 ],
 "metadata": {
  "interpreter": {
   "hash": "4846203d052f4918654383d2fa4dc83e5f0e073317ccb4eea0fa3b82d0bd9d45"
  },
  "kernelspec": {
   "display_name": "Python 3.7.12 ('qcdevs')",
   "language": "python",
   "name": "python3"
  },
  "language_info": {
   "codemirror_mode": {
    "name": "ipython",
    "version": 3
   },
   "file_extension": ".py",
   "mimetype": "text/x-python",
   "name": "python",
   "nbconvert_exporter": "python",
   "pygments_lexer": "ipython3",
   "version": "3.7.12"
  }
 },
 "nbformat": 4,
 "nbformat_minor": 2
}
