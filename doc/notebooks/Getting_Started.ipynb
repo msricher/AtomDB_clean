{
 "cells": [
  {
   "cell_type": "markdown",
   "metadata": {
    "slideshow": {
     "slide_type": "-"
    }
   },
   "source": [
    "QC-AtomDB Getting Started\n",
    "============================="
   ]
  },
  {
   "cell_type": "markdown",
   "metadata": {
    "slideshow": {
     "slide_type": "slide"
    }
   },
   "source": [
    "This tutorial shows how to use QC-AtomDB as a Python script or library.\n"
   ]
  },
  {
   "cell_type": "markdown",
   "metadata": {},
   "source": [
    "Learning outcomes\n",
    "-----------------\n",
    "\n",
    "- Script usage\n",
    "\n",
    "- Atom-DB as a Python library\n",
    "\n",
    "    - Loading/Dumping atomic species data\n",
    "\n",
    "    - Getting properties"
   ]
  },
  {
   "cell_type": "markdown",
   "metadata": {},
   "source": [
    "Requirements\n",
    "------------\n",
    "Further down it is assumed the package has been installed and the datasets compiled. Please, check the pertinent [instructions](https://github.com/QuantumElephant/atomdb#installation) provided in the README file."
   ]
  },
  {
   "cell_type": "markdown",
   "metadata": {},
   "source": [
    "Script usage\n",
    "------------\n",
    "\n",
    "A basic functionality is provided through the command line interface.\n",
    "\n",
    "* Checked the command line options with:\n",
    "    * `python -m atomdb -h`\n"
   ]
  },
  {
   "cell_type": "markdown",
   "metadata": {},
   "source": [
    "\n",
    "* To retrieve Slater's dataset data for the neutral Carbon atom do:\n",
    "    * `python -m atomdb -q slater C 0 3`"
   ]
  },
  {
   "cell_type": "code",
   "execution_count": null,
   "metadata": {},
   "outputs": [],
   "source": [
    "import sys  \n",
    "sys.path.insert(0, '../../')"
   ]
  },
  {
   "cell_type": "markdown",
   "metadata": {},
   "source": [
    "Atom-DB as a Python library\n",
    "----------------------------\n",
    "\n",
    "The following lines should appear at the beginning of the scripts:"
   ]
  },
  {
   "cell_type": "code",
   "execution_count": 1,
   "metadata": {
    "slideshow": {
     "slide_type": "slide"
    }
   },
   "outputs": [],
   "source": [
    "# Import the Atom-DB library\n",
    "import atomdb\n",
    "\n",
    "# Optional modules\n",
    "import numpy as np\n",
    "from matplotlib import pyplot\n"
   ]
  },
  {
   "cell_type": "markdown",
   "metadata": {
    "slideshow": {
     "slide_type": "slide"
    }
   },
   "source": [
    "### Loading/Dumping Data\n",
    "\n",
    "Use the `atomdb.load` function to retrieve information from a datasets for an atomic spcie (defined by the element symbol, charge, multiplicity and state parameters)."
   ]
  },
  {
   "cell_type": "code",
   "execution_count": 2,
   "metadata": {
    "slideshow": {
     "slide_type": "slide"
    }
   },
   "outputs": [],
   "source": [
    "# Define specie and load data\n",
    "element = 'Cl'\n",
    "charge = 0\n",
    "mult = 2\n",
    "dataset = 'slater'\n",
    "\n",
    "atom = atomdb.load(element, charge, mult, dataset=dataset)"
   ]
  },
  {
   "cell_type": "markdown",
   "metadata": {},
   "source": [
    "For details on the available datasets see [add link to doc]() \n",
    "\n",
    "Currently we only support neutral/charged elements in its ground state, therefore, as shown above for neutral Carbon, the state (nexc parameter) is not specified, leaving it to take its dafault value."
   ]
  },
  {
   "cell_type": "markdown",
   "metadata": {},
   "source": [
    "\n",
    "\n",
    "All information stored about a specie can be outputted in a JSON file format using:"
   ]
  },
  {
   "cell_type": "code",
   "execution_count": null,
   "metadata": {},
   "outputs": [],
   "source": [
    "# Dumping Data to a JSON File\n",
    "atom.to_json()"
   ]
  },
  {
   "cell_type": "markdown",
   "metadata": {
    "slideshow": {
     "slide_type": "slide"
    }
   },
   "source": [
    "### Getting Atomic Properties\n",
    "\n",
    "Several scalar and vector properties (mostly related to the electron density) are accesible some of which are showcased below.\n",
    "\n",
    "Refer to [add link to doc]() for details on the supported properties.  \n",
    "Note that for properties like the covalent atomic radius that have several data sources we use dictionaries."
   ]
  },
  {
   "cell_type": "markdown",
   "metadata": {},
   "source": [
    "* Scalars"
   ]
  },
  {
   "cell_type": "code",
   "execution_count": 3,
   "metadata": {},
   "outputs": [
    {
     "name": "stdout",
     "output_type": "stream",
     "text": [
      "Element:  Cl\n",
      "------------\n",
      "Mass (a.u.): 35.4515\n",
      "Energy (Hartree): 459.482072308\n",
      "Ionization potential (Hartree): None\n",
      "COV_RADII (a.u.): {'cordero': 1.9275206565996772, 'bragg': 1.9842124406173147, 'slater': 1.889726133921252}\n"
     ]
    }
   ],
   "source": [
    "print(\"Element: \", atom.elem)\n",
    "print('-'*12)\n",
    "# Scalars\n",
    "print(\"Mass (a.u.):\", atom.mass)\n",
    "print(\"Energy (Hartree):\", atom.energy)\n",
    "print(\"Ionization potential (Hartree):\", atom.ip)\n",
    "print(\"COV_RADII (a.u.):\", atom.cov_radii)"
   ]
  },
  {
   "cell_type": "markdown",
   "metadata": {},
   "source": [
    "* Vectors"
   ]
  },
  {
   "cell_type": "code",
   "execution_count": 4,
   "metadata": {},
   "outputs": [
    {
     "name": "stdout",
     "output_type": "stream",
     "text": [
      "Number: 5\n",
      "Energies (Hartree): [-104.8844208  -10.6074807   -1.0729121   -8.0722274   -0.5063999]\n",
      "Alpha occupations: [1. 1. 1. 3. 3.]\n",
      "Beta occupations: [1. 1. 1. 3. 2.]\n"
     ]
    }
   ],
   "source": [
    "# Atomic orbitals\n",
    "print(\"Number:\", atom.ao.norba)\n",
    "print(\"Energies (Hartree):\", atom.ao.energy_a)\n",
    "print(\"Alpha occupations:\", atom.ao.occs_a)\n",
    "print(\"Beta occupations:\", atom.ao.occs_b)"
   ]
  },
  {
   "cell_type": "markdown",
   "metadata": {},
   "source": [
    "* Density related properties"
   ]
  },
  {
   "cell_type": "markdown",
   "metadata": {},
   "source": [
    "Two methods are available to compute density-related properties: `interpolate_dens` and `interpolate_ked`; they return spline functions (cubic splines) that can be evaluated at a radial grid. Optionally, one can select the type of orbitals included in the calculation and take a subset of them by specifying their spin component and index, respectively (by default, all occupied alpha and beta spin-orbitals are included, `spin=ab` and `index=None`). Also, density derivatives are accessible through the `deriv` parameter passed to the splines."
   ]
  },
  {
   "cell_type": "code",
   "execution_count": 5,
   "metadata": {
    "slideshow": {
     "slide_type": "slide"
    }
   },
   "outputs": [],
   "source": [
    "rad_grid = np.linspace(0., 1., num=50)\n",
    "dens_spline = atom.interpolate_dens(log=True)\n",
    "dens = dens_spline(rad_grid)\n",
    "\n",
    "d_dens = dens_spline(rad_grid, deriv=1)"
   ]
  },
  {
   "cell_type": "code",
   "execution_count": 6,
   "metadata": {
    "slideshow": {
     "slide_type": "slide"
    }
   },
   "outputs": [
    {
     "data": {
      "text/plain": [
       "Text(0.5, 0.98, 'Element Cl, dataset slater')"
      ]
     },
     "execution_count": 6,
     "metadata": {},
     "output_type": "execute_result"
    },
    {
     "data": {
      "image/png": "[encoded data removed]",
      "text/plain": [
       "<Figure size 432x288 with 2 Axes>"
      ]
     },
     "metadata": {
      "needs_background": "light"
     },
     "output_type": "display_data"
    }
   ],
   "source": [
    "fig, (ax1, ax2) = pyplot.subplots(1, 2)\n",
    "ax1.plot(rad_grid, dens, '-b')\n",
    "ax2.plot(rad_grid, d_dens, '--k')\n",
    "ax1.set(xlabel=\"Radius\", ylabel=\"Density\")\n",
    "ax2.set(xlabel=\"Radius\", ylabel=\"Density derivative\")\n",
    "ax1.ticklabel_format(axis='y', style='sci', scilimits=(0,0))\n",
    "ax2.ticklabel_format(axis='y', style='sci', scilimits=(0,0))\n",
    "fig.suptitle(f'Element {atom.elem}, dataset {atom.dataset}')"
   ]
  },
  {
   "cell_type": "code",
   "execution_count": 8,
   "metadata": {},
   "outputs": [],
   "source": [
    "rad_grid = np.linspace(0., 1., num=50)\n",
    "ked_spline = atom.interpolate_ked(log=False)\n",
    "dens = ked_spline(rad_grid)"
   ]
  },
  {
   "cell_type": "code",
   "execution_count": 9,
   "metadata": {},
   "outputs": [
    {
     "data": {
      "text/plain": [
       "Text(0.5, 1.0, 'Element Cl, dataset slater')"
      ]
     },
     "execution_count": 9,
     "metadata": {},
     "output_type": "execute_result"
    },
    {
     "data": {
      "image/png": "[encoded data removed]",
      "text/plain": [
       "<Figure size 432x288 with 1 Axes>"
      ]
     },
     "metadata": {
      "needs_background": "light"
     },
     "output_type": "display_data"
    }
   ],
   "source": [
    "fig, ax = pyplot.subplots()\n",
    "ax.plot(rad_grid, dens, color=\"blue\")\n",
    "ax.set_xlabel(\"Radius\")\n",
    "ax.set_ylabel(\"Kinetic Energy Density\")\n",
    "ax.set_title(f'Element {atom.elem}, dataset {atom.dataset}')"
   ]
  }
 ],
 "metadata": {
  "interpreter": {
   "hash": "4846203d052f4918654383d2fa4dc83e5f0e073317ccb4eea0fa3b82d0bd9d45"
  },
  "kernelspec": {
   "display_name": "Python 3.7.12 ('qcdevs')",
   "language": "python",
   "name": "python3"
  },
  "language_info": {
   "codemirror_mode": {
    "name": "ipython",
    "version": 3
   },
   "file_extension": ".py",
   "mimetype": "text/x-python",
   "name": "python",
   "nbconvert_exporter": "python",
   "pygments_lexer": "ipython3",
   "version": "3.7.12"
  }
 },
 "nbformat": 4,
 "nbformat_minor": 2
}
