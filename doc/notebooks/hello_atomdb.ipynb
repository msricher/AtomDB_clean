{
 "cells": [
  {
   "cell_type": "markdown",
   "metadata": {
    "slideshow": {
     "slide_type": "-"
    }
   },
   "source": [
    "Hello AtomDB!\n",
    "============================="
   ]
  },
  {
   "cell_type": "markdown",
   "metadata": {
    "slideshow": {
     "slide_type": "slide"
    }
   },
   "source": [
    "This tutorial shows how to use QC-AtomDB as a Python library.\n"
   ]
  },
  {
   "cell_type": "markdown",
   "metadata": {},
   "source": [
    "Learning outcomes\n",
    "-----------------\n",
    "\n",
    "- Loading/Dumping atomic species data\n",
    "\n",
    "- Getting atomic properties\n",
    "\n",
    "- Defining a pormolecule and evalauting its properties"
   ]
  },
  {
   "cell_type": "markdown",
   "metadata": {},
   "source": [
    "### Packages isntall for Google Colab"
   ]
  },
  {
   "cell_type": "code",
   "execution_count": 1,
   "metadata": {},
   "outputs": [],
   "source": [
    "! pip install git+https://github.com/theochem/iodata.git\n",
    "! pip install git+https://github.com/theochem/grid.git\n",
    "! pip install git+https://github.com/theochem/denspart.git\n",
    "! pip install git+https://github.com/theochem/AtomDB.git@demo_notebook"
   ]
  },
  {
   "cell_type": "code",
   "execution_count": 2,
   "metadata": {},
   "outputs": [],
   "source": [
    "# download the example files\n",
    "import os\n",
    "from urllib.request import urlretrieve\n",
    "\n",
    "fpath = \"data/\"\n",
    "if not os.path.exists(fpath):\n",
    "    os.makedirs(fpath, exist_ok=True)\n",
    "\n",
    "urlretrieve(\n",
    "    \"https://raw.githubusercontent.com/theochem/AtomDB/demo_notebook/doc/notebooks/data/dichloropyridine26.fchk\",\n",
    "    os.path.join(fpath, \"dichloropyridine26.fchk\")\n",
    "    )\n",
    "\n",
    "urlretrieve(\n",
    "    \"https://raw.githubusercontent.com/theochem/AtomDB/demo_notebook/doc/notebooks/data/dichloropyridine26_mbis.npz\",\n",
    "    os.path.join(fpath, \"dichloropyridine26_mbis.npz\")\n",
    "    )"
   ]
  },
  {
   "cell_type": "code",
   "execution_count": 3,
   "metadata": {},
   "outputs": [],
   "source": [
    "# import sys  \n",
    "# sys.path.insert(0, '../../')"
   ]
  },
  {
   "cell_type": "markdown",
   "metadata": {},
   "source": [
    "<!-- Atom-DB as a Python library\n",
    "---------------------------- -->\n",
    "\n",
    "The following lines should appear at the beginning of the scripts:"
   ]
  },
  {
   "cell_type": "code",
   "execution_count": 4,
   "metadata": {
    "slideshow": {
     "slide_type": "slide"
    }
   },
   "outputs": [],
   "source": [
    "# Import the AtomDB library\n",
    "import atomdb\n",
    "\n",
    "# Optional modules\n",
    "import numpy as np\n",
    "from matplotlib import pyplot\n"
   ]
  },
  {
   "cell_type": "markdown",
   "metadata": {
    "slideshow": {
     "slide_type": "slide"
    }
   },
   "source": [
    "### Loading/Dumping Data\n",
    "\n",
    "Use the `atomdb.load` function to retrieve an atomic spcies' information.\n",
    "\n",
    "The required inputs are: element symbol, charge and multiplicity. \n",
    "\n",
    "Optionally a dataset name can be specified choosing one of:\n",
    "\n",
    "- `nist`: NIST spectroscopic data complemented with results from [Phys. Chem. Chem. Phys., 2016,18, 25721-25734](https://doi.org/10.1039/C6CP04533B)\n",
    "\n",
    "- `slater`: Atomic orbitals and electronic denisty properties from SCF calculations using Slater basis.\n",
    "\n",
    "- `numeric`: electronic denisty properties from numerical Hartree-fock calculations.\n",
    "\n",
    "- `gaussian`: Atomic orbitals and electronic denisty properties from SCF calculations using gaussian basis. \n",
    "\n",
    "Currently we only support neutral/charged elements in its ground state, therefore, the optional parameter nexc (electronic state number) is not specified, leaving it to take its dafault value 0."
   ]
  },
  {
   "cell_type": "code",
   "execution_count": 5,
   "metadata": {
    "slideshow": {
     "slide_type": "slide"
    }
   },
   "outputs": [],
   "source": [
    "# Define species and load data\n",
    "element = 'Cl'\n",
    "charge = 0\n",
    "mult = 2\n",
    "dataset = 'slater'\n",
    "\n",
    "chl = atomdb.load(element, charge, mult, dataset=dataset)"
   ]
  },
  {
   "cell_type": "markdown",
   "metadata": {},
   "source": [
    "\n",
    "\n",
    "All information stored about a specise can be outputted in a JSON file format using:"
   ]
  },
  {
   "cell_type": "code",
   "execution_count": 6,
   "metadata": {},
   "outputs": [],
   "source": [
    "# Dumping Data to a JSON File\n",
    "# chl.to_json()"
   ]
  },
  {
   "cell_type": "markdown",
   "metadata": {
    "slideshow": {
     "slide_type": "slide"
    }
   },
   "source": [
    "### Getting Atomic Properties\n",
    "\n",
    "Bellow we showcase some of the accesible scalar and vector properties (mostly related to the electron density)\n",
    " \n",
    "Note that we use dictionaries for properties like the non-bonded atomic radius having more than one definition."
   ]
  },
  {
   "cell_type": "markdown",
   "metadata": {},
   "source": [
    "* Scalars"
   ]
  },
  {
   "cell_type": "code",
   "execution_count": 7,
   "metadata": {},
   "outputs": [
    {
     "name": "stdout",
     "output_type": "stream",
     "text": [
      "Atomic number:  17\n",
      "Number of electrons:  17\n",
      "Mass [a.u.]:  35.4515\n",
      "Atomic radius [a.u.]:  3.307020734362191\n"
     ]
    }
   ],
   "source": [
    "print(\"Atomic number: \", chl.natom)\n",
    "print(\"Number of electrons: \", chl.nelec)\n",
    "print(\"Mass [a.u.]: \", chl.mass)\n",
    "print(\"Atomic radius [a.u.]: \", chl.vdw_radii['bondi'])"
   ]
  },
  {
   "cell_type": "markdown",
   "metadata": {},
   "source": [
    "* Vectors"
   ]
  },
  {
   "cell_type": "code",
   "execution_count": 8,
   "metadata": {},
   "outputs": [
    {
     "name": "stdout",
     "output_type": "stream",
     "text": [
      "Number of spin-orbitals (alpha):  5\n",
      "Energies:  [-104.8844208  -10.6074807   -1.0729121   -8.0722274   -0.5063999]\n",
      "Occupations (alpha):  [1. 1. 1. 3. 3.]\n",
      "Occupations (beta):  [1. 1. 1. 3. 2.]\n"
     ]
    }
   ],
   "source": [
    "# Atomic orbitals\n",
    "print(\"Number of spin-orbitals (alpha): \", chl.ao.norba)\n",
    "print(\"Energies: \", chl.ao.energy_a)\n",
    "print(\"Occupations (alpha): \", chl.ao.occs_a)\n",
    "print(\"Occupations (beta): \", chl.ao.occs_b)"
   ]
  },
  {
   "cell_type": "markdown",
   "metadata": {},
   "source": [
    "* Functions (electron density properties)"
   ]
  },
  {
   "cell_type": "markdown",
   "metadata": {},
   "source": [
    "Two methods are available to compute density-related properties: `interpolate_dens` and `interpolate_ked`; they return spline functions (cubic splines) that can be evaluated on a radial grid. \n",
    "\n",
    "<!-- Optionally, one can select the type of orbitals included in the calculation and take a subset of them by specifying their spin component and index, respectively (by default, all occupied alpha and beta spin-orbitals are included, `spin=ab` and `index=None`). Also, density derivatives are accessible through the `deriv` parameter passed to the splines. -->"
   ]
  },
  {
   "cell_type": "code",
   "execution_count": 9,
   "metadata": {
    "slideshow": {
     "slide_type": "slide"
    }
   },
   "outputs": [],
   "source": [
    "# Define a uniform radial grid and evaluate density\n",
    "rad_grid = np.linspace(0., 6., num=100)\n",
    "dens_spline = chl.interpolate_dens(log=True)\n",
    "\n",
    "dens = dens_spline(rad_grid)"
   ]
  },
  {
   "cell_type": "code",
   "execution_count": 10,
   "metadata": {
    "slideshow": {
     "slide_type": "slide"
    }
   },
   "outputs": [
    {
     "data": {
      "text/plain": [
       "Text(0.5, 0.98, 'Spherically averaged density')"
      ]
     },
     "execution_count": 10,
     "metadata": {},
     "output_type": "execute_result"
    },
    {
     "data": {
      "text/plain": [
       "<Figure size 2400x1800 with 0 Axes>"
      ]
     },
     "metadata": {},
     "output_type": "display_data"
    },
    {
     "data": {
      "image/png": "[encoded data removed]",
      "text/plain": [
       "<Figure size 432x288 with 1 Axes>"
      ]
     },
     "metadata": {
      "needs_background": "light"
     },
     "output_type": "display_data"
    }
   ],
   "source": [
    "pyplot.figure(figsize = (8, 6), dpi=300)\n",
    "\n",
    "# pyplot.rcParams.update({'font.size': 16})\n",
    "params = {'legend.fontsize': 'x-large',\n",
    "         'axes.labelsize': 12,\n",
    "         'axes.titlesize':16,\n",
    "         'xtick.labelsize':10,\n",
    "         'ytick.labelsize':10}\n",
    "pyplot.rcParams.update(params)\n",
    "\n",
    "\n",
    "fig, ax = pyplot.subplots()\n",
    "\n",
    "ax.plot(rad_grid, dens, '-r', linewidth=2)\n",
    "\n",
    "ax.set(xlabel=\"Radial distance [Bohr]\", ylabel=\"Density [Bohr$^{-3}$]\")\n",
    "ax.set_yscale('log')\n",
    "ax.set_ylim(top=1000, bottom=0.00001)\n",
    "ax.set_xlim(left=0., right=6)\n",
    "fig.suptitle(f'Spherically averaged density')"
   ]
  },
  {
   "cell_type": "markdown",
   "metadata": {},
   "source": [
    "## Promolecule tool: making a pormolecule and evalauting its properties"
   ]
  },
  {
   "cell_type": "markdown",
   "metadata": {},
   "source": [
    "![2,4,6-Trinitrotoluene](images/dichlp_rdkit.png)"
   ]
  },
  {
   "cell_type": "markdown",
   "metadata": {},
   "source": [
    "The tool function `make_promolecule` in the `promolecule` module will build a promolecule for us. It is as simple as providing the list of atomic numbers and coordinates defining the molecule."
   ]
  },
  {
   "cell_type": "code",
   "execution_count": 11,
   "metadata": {},
   "outputs": [],
   "source": [
    "# Import modules\n",
    "from atomdb.promolecule import make_promolecule\n",
    "\n",
    "# optional modules\n",
    "from iodata import load_one, dump_one\n",
    "from iodata.utils import Cube\n",
    "from grid.cubic import UniformGrid"
   ]
  },
  {
   "cell_type": "code",
   "execution_count": 12,
   "metadata": {},
   "outputs": [
    {
     "name": "stdout",
     "output_type": "stream",
     "text": [
      "Atomic mass:  147.98677999999998\n",
      "Electronic energy:  -1163.308173596\n"
     ]
    }
   ],
   "source": [
    "# Define the molecule (atoms and coordinates)\n",
    "fname = 'dichloropyridine26'\n",
    "mol = load_one(f'data/{fname}.fchk')\n",
    "atnums = mol.atnums\n",
    "atcoords = mol.atcoords\n",
    "\n",
    "# Build de promolecule\n",
    "promol = make_promolecule(atnums, atcoords, dataset='slater')\n",
    "\n",
    "print(\"Atomic mass: \", promol.mass())\n",
    "print(\"Electronic energy: \", -promol.energy())"
   ]
  },
  {
   "cell_type": "markdown",
   "metadata": {},
   "source": [
    "The promolecule's electron density is evaluated with the method `density`. In this example we use [Grid](https://github.com/theochem/grid) package to generate the required input set of points, but any external package with the same capabilities could be used."
   ]
  },
  {
   "cell_type": "code",
   "execution_count": 13,
   "metadata": {},
   "outputs": [],
   "source": [
    "# Generate a grid\n",
    "cubgrid = UniformGrid.from_molecule(mol.atnums, atcoords, spacing=0.2, extension=5.0, rotate=False, weight=\"Trapezoid\")\n",
    "\n",
    "# Evaluate the pormolecule's density\n",
    "promol_dens = promol.density(cubgrid.points)"
   ]
  },
  {
   "cell_type": "code",
   "execution_count": 14,
   "metadata": {},
   "outputs": [],
   "source": [
    "# Using IOData we can write the densities to a Gaussian Cube file\n",
    "data = promol_dens.reshape(cubgrid.shape)\n",
    "axes = cubgrid.axes\n",
    "origin = cubgrid.origin\n",
    "\n",
    "iocube = Cube(origin, axes, data)\n",
    "mol.cube = iocube\n",
    "dump_one(mol, f'data/{fname}_rho.cube')"
   ]
  },
  {
   "cell_type": "markdown",
   "metadata": {},
   "source": [
    "Optionally, we can build on top of the previous example, and evaluate the electrostatic potential of the molecule to map it on the promolecule density isosurface.\n",
    "\n",
    "The necessary atomic charges can be computed with DensPart implementation of Minimal Basis Iterative Stockholder (MBIS) scheme (see [instructions](https://github.com/theochem/denspart))."
   ]
  },
  {
   "cell_type": "markdown",
   "metadata": {},
   "source": [
    "#### Evaluating the electrostatic potential"
   ]
  },
  {
   "cell_type": "code",
   "execution_count": 15,
   "metadata": {},
   "outputs": [],
   "source": [
    "# MBIS charges from DensPart\n",
    "dichlorop = np.load(f'data/{fname}_mbis.npz')\n",
    "charges = dichlorop['charges']\n",
    "\n",
    "# Electrostatic potential\n",
    "f = lambda q, radii : q / radii\n",
    "esp = sum(f(q, np.linalg.norm(cubgrid.points - coord, axis=1)) for (q, coord) in zip(charges, promol.coords))\n",
    "\n",
    "\n",
    "# Write data to cube file\n",
    "data = esp.reshape(cubgrid.shape)\n",
    "axes = cubgrid.axes\n",
    "origin = cubgrid.origin\n",
    "\n",
    "iocube = Cube(origin, axes, data)\n",
    "mol.cube = iocube\n",
    "dump_one(mol, f'data/{fname}_pot.cube')"
   ]
  },
  {
   "cell_type": "markdown",
   "metadata": {},
   "source": [
    "The final electrostatic surface potential (ESP) visualized with [UCSF ChimeraX](https://www.cgl.ucsf.edu/chimerax/) GUI is displayed bellow. \n",
    "\n",
    "(The promolecule density isosurface corresponds to a value of 0.002)"
   ]
  },
  {
   "cell_type": "markdown",
   "metadata": {},
   "source": [
    "![2,4,6-Trinitrotoluene](images/dclp_esp_slater.jpg)"
   ]
  }
 ],
 "metadata": {
  "kernelspec": {
   "display_name": "Python 3 (ipykernel)",
   "language": "python",
   "name": "python3"
  },
  "language_info": {
   "codemirror_mode": {
    "name": "ipython",
    "version": 3
   },
   "file_extension": ".py",
   "mimetype": "text/x-python",
   "name": "python",
   "nbconvert_exporter": "python",
   "pygments_lexer": "ipython3",
   "version": "3.7.12"
  },
  "vscode": {
   "interpreter": {
    "hash": "4846203d052f4918654383d2fa4dc83e5f0e073317ccb4eea0fa3b82d0bd9d45"
   }
  }
 },
 "nbformat": 4,
 "nbformat_minor": 2
}
