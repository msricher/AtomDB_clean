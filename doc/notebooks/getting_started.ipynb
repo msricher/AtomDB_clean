{
 "cells": [
  {
   "cell_type": "markdown",
   "metadata": {
    "slideshow": {
     "slide_type": "-"
    }
   },
   "source": [
    "QC-AtomDB Getting Started\n",
    "============================="
   ]
  },
  {
   "cell_type": "markdown",
   "metadata": {
    "slideshow": {
     "slide_type": "slide"
    }
   },
   "source": [
    "This tutorial shows how to use QC-AtomDB as a Python script or library.\n"
   ]
  },
  {
   "cell_type": "markdown",
   "metadata": {},
   "source": [
    "Learning outcomes\n",
    "-----------------\n",
    "\n",
    "- Script usage\n",
    "\n",
    "- Atom-DB as a Python library\n",
    "\n",
    "    - Loading/Dumping atomic species data\n",
    "\n",
    "    - Getting properties"
   ]
  },
  {
   "cell_type": "markdown",
   "metadata": {},
   "source": [
    "Requirements\n",
    "------------\n",
    "Further down it is assumed the package has been installed and the datasets compiled. Please, check the pertinent instructions here [add link to doc]()"
   ]
  },
  {
   "cell_type": "markdown",
   "metadata": {},
   "source": [
    "Script usage\n",
    "------------\n",
    "\n",
    "A basic functionality is provided through the command line interface.\n",
    "\n",
    "* Checked the command line options with:\n",
    "    * `python -m atomdb -h`\n"
   ]
  },
  {
   "cell_type": "markdown",
   "metadata": {},
   "source": [
    "\n",
    "* To retrieve Slater's dataset data for the neutral Carbon atom do:\n",
    "    * `python -m atomdb -q slater C 0 3`"
   ]
  },
  {
   "cell_type": "markdown",
   "metadata": {},
   "source": [
    "Atom-DB as a Python library\n",
    "----------------------------\n",
    "\n",
    "The following lines should appear at the beginning of the scripts:"
   ]
  },
  {
   "cell_type": "code",
   "execution_count": 17,
   "metadata": {
    "slideshow": {
     "slide_type": "slide"
    }
   },
   "outputs": [],
   "source": [
    "# Import the Atom-DB library\n",
    "import atomdb\n",
    "\n",
    "# Optional modules\n",
    "import numpy as np\n",
    "from matplotlib import pyplot\n"
   ]
  },
  {
   "cell_type": "markdown",
   "metadata": {
    "slideshow": {
     "slide_type": "slide"
    }
   },
   "source": [
    "### Loading/Dumping Data\n",
    "\n",
    "Use the `atomdb.load` function to retrieve information from a datasets for an atomic spcie (defined by the element symbol, charge, multiplicity and state parameters)."
   ]
  },
  {
   "cell_type": "code",
   "execution_count": 2,
   "metadata": {
    "slideshow": {
     "slide_type": "slide"
    }
   },
   "outputs": [],
   "source": [
    "# Define specie and load data\n",
    "element = 'C'\n",
    "charge = 0\n",
    "mult = 3\n",
    "dataset = 'slater'\n",
    "\n",
    "carbon = atomdb.load(element, charge, mult, dataset=dataset)"
   ]
  },
  {
   "cell_type": "markdown",
   "metadata": {},
   "source": [
    "For details on the available datasets see [add link to doc]() \n",
    "\n",
    "Currently we only support neutral/charged elements in its ground state, therefore, as shown above for neutral Carbon, the state (nexc parameter) is not specified, leaving it to take its dafault value."
   ]
  },
  {
   "cell_type": "markdown",
   "metadata": {},
   "source": [
    "\n",
    "\n",
    "All information stored about a specie can be outputted in a JSON file format using:"
   ]
  },
  {
   "cell_type": "code",
   "execution_count": null,
   "metadata": {},
   "outputs": [],
   "source": [
    "# Dumping Data to a JSON File\n",
    "carbon.to_json()"
   ]
  },
  {
   "cell_type": "markdown",
   "metadata": {
    "slideshow": {
     "slide_type": "slide"
    }
   },
   "source": [
    "### Getting Atomic Properties\n",
    "\n",
    "Several scalar and vector properties (mostly related to the electron density) are accesible some of which are showcased below.\n",
    "\n",
    "Refer to [add link to doc]() for details on the supported properties.  \n",
    "Note that for properties like the covalent atomic radius that have several data sources we use dictionaries."
   ]
  },
  {
   "cell_type": "markdown",
   "metadata": {},
   "source": [
    "* Scalars"
   ]
  },
  {
   "cell_type": "code",
   "execution_count": null,
   "metadata": {},
   "outputs": [],
   "source": [
    "print(\"Element: \", carbon.elem)\n",
    "print('-'*12)\n",
    "# Scalars\n",
    "print(\"Mass (a.u.):\", carbon.mass)\n",
    "print(\"Energy (Hartree):\", carbon.energy)\n",
    "print(\"Ionization potential (Hartree):\", carbon.ip)\n",
    "print(\"COV_RADII (a.u.):\", carbon.cov_radii)"
   ]
  },
  {
   "cell_type": "markdown",
   "metadata": {},
   "source": [
    "* Vectors"
   ]
  },
  {
   "cell_type": "code",
   "execution_count": null,
   "metadata": {},
   "outputs": [],
   "source": [
    "# Vectors\n",
    "print(\"Atomic orbitals energies (Hartree):\", carbon.mo_energies)\n",
    "print(\"Atomic orbitals occupations:\", carbon.mo_occs)"
   ]
  },
  {
   "cell_type": "markdown",
   "metadata": {
    "slideshow": {
     "slide_type": "slide"
    }
   },
   "source": [
    "Electron density based properties, such as the kinetic electron density (KED), can be evaluated on a radial grid. Optionaly, one can select which occupied orbitals are used in the calculation by specifiying their spin (`ab` corresponds to all occupied orbitlas)"
   ]
  },
  {
   "cell_type": "code",
   "execution_count": 21,
   "metadata": {
    "slideshow": {
     "slide_type": "slide"
    }
   },
   "outputs": [],
   "source": [
    "rad_grid = np.linspace(0., 1., num=50)\n",
    "rho = carbon.ked_spline(rad_grid, spin='ab')"
   ]
  },
  {
   "cell_type": "code",
   "execution_count": null,
   "metadata": {
    "slideshow": {
     "slide_type": "slide"
    }
   },
   "outputs": [],
   "source": [
    "fig, ax = pyplot.subplots()\n",
    "ax.plot(rad_grid, rho, color=\"blue\")\n",
    "ax.set_xlabel(\"Radius\")\n",
    "ax.set_ylabel(\"Density\")\n",
    "ax.set_title(f'Element {carbon.elem}, dataset {dataset}')"
   ]
  }
 ],
 "metadata": {
  "interpreter": {
   "hash": "e68fa89587c11695123efe36cb3c73b945022418560b0df0c9effe44838dc7cf"
  },
  "kernelspec": {
   "display_name": "Python 3.7.10 64-bit ('qcdevs': conda)",
   "name": "python3"
  },
  "language_info": {
   "codemirror_mode": {
    "name": "ipython",
    "version": 3
   },
   "file_extension": ".py",
   "mimetype": "text/x-python",
   "name": "python",
   "nbconvert_exporter": "python",
   "pygments_lexer": "ipython3",
   "version": "3.7.10"
  }
 },
 "nbformat": 4,
 "nbformat_minor": 2
}
